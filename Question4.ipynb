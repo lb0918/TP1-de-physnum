{
 "cells": [
  {
   "cell_type": "markdown",
   "metadata": {},
   "source": [
    "Nous savons que le pouvoir d'arrêt est donné par la formule suivante:\n",
    "\\begin{gather*}\n",
    "    S_{col}(T)=2\\pi r_e^2m_ec^2n_e\\frac{1}{\\beta^2}\\left[\\ln(\\frac{2m_ec^2\\beta^2\\gamma^2T_e^{max}}{I^2})-2\\beta^2\\right]\n",
    "\\end{gather*}\n",
    "Ayant les définitions suivantes dans l'énoncer:\n",
    "\\begin{align*}\n",
    "    T_e^{max}=&\\frac{a(\\gamma^2-1)}{b+\\delta\\gamma} & a=&2m_ec^2 & b=&1+(\\frac{m_e}{m_p})^2\\\\\n",
    "    \\delta=&2\\frac{m_e}{m_p} & U=&2\\pi r_e^2m_ec^2n_e & k=&\\frac{a^2}{I^2},\\\\\n",
    "\\end{align*}\n",
    "nous pouvons les utiliser afin de réduire l'expression du pouvoir d'arrêt. Nous avons donc:\n",
    "\\begin{gather*}\n",
    "    S_{col}(T)=\\frac{U}{\\beta^2}\\left[\\ln(\\frac{a^2\\beta^2\\gamma^2(\\gamma^2-1)}{I^2(b+\\delta\\gamma)})-2\\beta^2\\right]\\\\\n",
    "    S_{col}(T)=\\frac{U}{\\beta^2}\\left[\\ln(\\frac{k\\beta^2\\gamma^2(\\gamma^2-1)}{b+\\delta\\gamma})-2\\beta^2\\right]\\\\\n",
    "\\end{gather*}\n",
    "Nous avons également l'expression suivante mettant en relation $\\gamma$ et $\\beta$, ce qui nous permettra d'avoir $S_{col}$ seulement en fonction de $\\gamma$:\n",
    "\\begin{gather*}\n",
    "    \\gamma^2\\beta^2=(\\gamma^2-1)\\implies \\beta^2=\\frac{\\gamma^2-1}{\\gamma^2}\n",
    "\\end{gather*}\n",
    "En substituant cette relation dans $S_{col}$, on obtient:\n",
    "\\begin{gather*}\n",
    "    S_{col}(T)=\\frac{U\\gamma^2}{\\gamma^2-1}\\left[\\ln(\\frac{k\\gamma^2(\\gamma^2-1)^2}{\\gamma^2(b+\\delta\\gamma)})-\\frac{2(\\gamma^2-1)}{\\gamma^2}\\right]\\\\\n",
    "    S_{col}(T)=\\frac{U\\gamma^2}{\\gamma^2-1}\\left[\\ln(\\frac{k(\\gamma^2-1)^2}{b+\\delta\\gamma})-\\frac{2(\\gamma^2-1)}{\\gamma^2}\\right]\\\\\n",
    "    S_{col}(T)=\\frac{U\\gamma^2}{\\gamma^2-1}\\ln\\left(\\frac{k(\\gamma^2-1)^2}{b+\\delta\\gamma}\\right)-2U\\\\\n",
    "\\end{gather*}"
   ]
  },
  {
   "cell_type": "markdown",
   "metadata": {},
   "source": [
    "On remarque que cette forme ne se résout pas analytiquement, on peut vérifier à l'aide d'un logiciel d'intégration tel que Symbolab."
   ]
  }
 ],
 "metadata": {
  "interpreter": {
   "hash": "7b4b8ce1a686fd7089c2cecec15ebb2a862d279e2cb5d9cf582f94e3f5029527"
  },
  "kernelspec": {
   "display_name": "Python 3.9.6 64-bit",
   "language": "python",
   "name": "python3"
  },
  "language_info": {
   "codemirror_mode": {
    "name": "ipython",
    "version": 3
   },
   "file_extension": ".py",
   "mimetype": "text/x-python",
   "name": "python",
   "nbconvert_exporter": "python",
   "pygments_lexer": "ipython3",
   "version": "3.9.7"
  },
  "orig_nbformat": 4
 },
 "nbformat": 4,
 "nbformat_minor": 2
}
