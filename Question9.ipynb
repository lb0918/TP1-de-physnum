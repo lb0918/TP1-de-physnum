{
 "cells": [
  {
   "cell_type": "code",
   "execution_count": 136,
   "metadata": {},
   "outputs": [],
   "source": [
    "import numpy as np\n",
    "import matplotlib.pyplot as plt\n",
    "from scipy.stats import moyal\n",
    "from scipy.stats import skew\n",
    "from scipy import integrate\n",
    "import timeit"
   ]
  },
  {
   "cell_type": "code",
   "execution_count": 119,
   "metadata": {},
   "outputs": [
    {
     "name": "stdout",
     "output_type": "stream",
     "text": [
      "[159.95834255 146.40770359 175.75072277 ... 151.827913   170.97383772\n",
      " 153.59902061]\n",
      "10000\n"
     ]
    }
   ],
   "source": [
    "moy = moyal(loc = 150, scale = 4).rvs(size = 10000)\n",
    "print(moy)\n",
    "print(len(moy))"
   ]
  },
  {
   "cell_type": "code",
   "execution_count": 109,
   "metadata": {},
   "outputs": [
    {
     "name": "stdout",
     "output_type": "stream",
     "text": [
      "L'asymétrie de la distribution d'énergies de moyal est de 1.560293647481061.\n"
     ]
    },
    {
     "data": {
      "image/png": "[encoded data removed]",
      "text/plain": [
       "<Figure size 1080x1080 with 1 Axes>"
      ]
     },
     "metadata": {
      "needs_background": "light"
     },
     "output_type": "display_data"
    }
   ],
   "source": [
    "plt.figure(figsize = (15, 15))\n",
    "plt.hist(moy, bins = 100)\n",
    "plt.show()\n",
    "a = skew(moy)\n",
    "print('''L'asymétrie de la distribution d'énergies de moyal est de '''+str(a)+'.')"
   ]
  },
  {
   "cell_type": "markdown",
   "metadata": {},
   "source": [
    "Comme on peut le voir dans l'histogramme ci-dessus, la distribution de moyal n'est pas tout à fait symétrique. Nous avons en effet mesuré une asymétrie de la distribution de données de 1.5130775108243748 ce qui indique une présence plus importante de proton ayant une énergie supérieure à la valeur centrale de 150 MeV."
   ]
  },
  {
   "cell_type": "markdown",
   "metadata": {},
   "source": [
    "Question 10:"
   ]
  },
  {
   "cell_type": "code",
   "execution_count": null,
   "metadata": {},
   "outputs": [],
   "source": [
    "T_i = 150*1.602e-13\n",
    "r_e = 2.8179e-15\n",
    "m_e = 9.1094e-31\n",
    "c = 3e8\n",
    "m_p = 1.6726e-27\n",
    "Énergie_moyenne_excitation_eau = 75*1.602e-19\n",
    "Énergie_moyenne_excitation_os = 91.9*1.602e-19\n",
    "rho_eau = 997\n",
    "rho_os = 1850\n",
    "def densité_électronique(composition_atomique, masse_volumique):\n",
    "    nbr_électrons_volumique = 0\n",
    "    avogadro = 6.022e23\n",
    "    masse_atomique = {1: 0.001007975, 6: 0.0120106, 7: 0.014006855, 8: 0.0159940, 12: 0.0243055, 15: 0.03097396200, 16: 0.0320675, 20: 0.040078} \n",
    "    for x in composition_atomique:\n",
    "        nbr_électrons_volumique += masse_volumique * x[1] * avogadro * x[0] / masse_atomique[x[0]]\n",
    "    return nbr_électrons_volumique\n",
    "eau = [(1, 0.111894), (8, 0.888106)]\n",
    "densité_électronique_eau = densité_électronique(eau, 997)\n",
    "os = [(1,0.063984), (6,0.278000), (7,0.027000), (8,0.410016), (12,0.002), (15,0.07), (16,0.002), (20,0.147)]\n",
    "densité_électronique_os = densité_électronique(os, 1850)\n",
    "def f_eau(T):\n",
    "    gamma = T/(m_p*c**2) + 1\n",
    "    Beta = np.sqrt((gamma**2-1)/gamma**2)\n",
    "    a = 2*m_e*c**2\n",
    "    b = 1 + (m_e/m_p)**2\n",
    "    delta = 2*m_e/m_p\n",
    "    T_emax = (a*(gamma**2-1))/(b+(delta*gamma))\n",
    "    S_col_eau = 2 * np.pi * (r_e ** 2)* m_e * (c ** 2) * (densité_électronique_eau) * (1/Beta**2) * (np.log((2*m_e*(c**2)*(Beta**2)*(gamma**2)*T_emax)/((Énergie_moyenne_excitation_eau)**2))-2*(Beta**2))\n",
    "    return rho_eau/S_col_eau\n",
    "def f_os(T):\n",
    "    gamma = T/(m_p*c**2) + 1\n",
    "    Beta = np.sqrt((gamma**2-1)/gamma**2)\n",
    "    a = 2*m_e*c**2\n",
    "    b = 1 + (m_e/m_p)**2\n",
    "    delta = 2*m_e/m_p\n",
    "    T_emax = (a*(gamma**2-1))/(b+(delta*gamma))\n",
    "    S_col_os = 2 * np.pi * (r_e ** 2)* m_e * (c ** 2) * (densité_électronique_os) * (1/Beta**2) * (np.log((2*m_e*(c**2)*(Beta**2)*(gamma**2)*T_emax)/((Énergie_moyenne_excitation_os)**2))-2*(Beta**2))\n",
    "    return rho_os/S_col_os\n",
    "\n",
    "def trap_eau(N, E):\n",
    "    a = 0\n",
    "    b = E\n",
    "    h = (b-a)/N\n",
    "    s = 0.5*f_eau(a) + 0.5*f_eau(b)\n",
    "    for k in range(1,N):\n",
    "        s += f_eau(a+k*h)\n",
    "    return (h*s)\n",
    "def trap_os(N, E):\n",
    "    a = 0\n",
    "    b = E\n",
    "    h = (b-a)/N\n",
    "    s = 0.5*f_os(a) + 0.5*f_os(b)\n",
    "    for k in range(1,N):\n",
    "        s += f_os(a+k*h)\n",
    "    return (h*s)\n",
    "tranches_eau = 2\n",
    "tranches_os = 2\n",
    "\"\"\"Précision trapèze\"\"\"\n",
    "# while True is True:\n",
    "#     I_ii = trap_eau(tranches_eau*2)\n",
    "#     I_i = trap_eau(tranches_eau)\n",
    "#     eps = (1/3)*(I_ii-I_i)\n",
    "#     tranches_eau *= 2\n",
    "#     print(eps)\n",
    "#     print(tranches_eau)\n",
    "#     if abs(eps) < 1.48e-8:\n",
    "#        print('''Le nombre de tranches eau est de '''+ str(2*(tranches_eau-1)))\n",
    "#        print(trap_eau((tranches_eau-1)*2))\n",
    "#        print(trap_eau(4355))\n",
    "#        break\n",
    "# while True is True:\n",
    "#     I_ii = trap_os(tranches_os*2)\n",
    "#     I_i = trap_os(tranches_os)\n",
    "#     eps = (1/3)*(I_ii-I_i)\n",
    "#     tranches_os *= 2\n",
    "#     print(eps)\n",
    "#     print(tranches_os)\n",
    "#     if abs(eps) < 1.48e-8:\n",
    "#        print('''Le nombre de tranches os est de '''+ str(2*(tranches_os-1)))\n",
    "#        break\n",
    "\n",
    "\n",
    "\n",
    "\n",
    "'''Romberg eau'''\n",
    "def romberg_eau(t, E):\n",
    "    R = np.zeros((t, t))\n",
    "    for x in range(0, t):\n",
    "        R[x, 0] = trap_eau(2**x, E)\n",
    "        for j in range(0, x):\n",
    "            R[x, j+1] = R[x, j] + (1/((4**(j+1))-1)) * (R[x,j]-R[x-1,j])\n",
    "    return R\n",
    "'''Romberg os'''\n",
    "def romberg_os(t, E):\n",
    "    R = np.zeros((t, t))\n",
    "    for x in range(0, t):\n",
    "        R[x, 0] = trap_os(2**x, E)\n",
    "        for j in range(0, x):\n",
    "            R[x, j+1] = R[x, j] + (1/((4**(j+1))-1)) * (R[x,j]-R[x-1,j])\n",
    "    return R\n",
    "print(romberg_eau(3, 150*1.602e-13))\n",
    "tranches_romberg_eau = 3\n",
    "tranches_romberg_os = 3\n",
    "\n",
    "\"\"\"Précision romberg\"\"\"\n",
    "\n",
    "\n",
    "lt = []\n",
    "lr = []\n",
    "l1 = []\n",
    "l2 = []\n",
    "rp = []\n",
    "r1 = []\n",
    "r2 = []\n",
    "\n",
    "# while True is True:\n",
    "#     end = False\n",
    "#     start = time.time()\n",
    "#     n = tranches_romberg_eau\n",
    "#     tranches_romberg_eau += 1\n",
    "#     R = romberg_eau(n)\n",
    "#     # print(R)\n",
    "#     # print(R[n-1])\n",
    "#     # print(len(R[n-1]))\n",
    "#     i = R[n-1]\n",
    "#     lr.append(i[-2])\n",
    "#     print(i)\n",
    "#     eps = (1/(4**(n-1)-1))*(i[n-2]-R[n-2][n-2])\n",
    "#     l2.append(abs(eps))\n",
    "#     # print(eps, n)\n",
    "#     if abs(eps) < 1.48e-8:\n",
    "#         end1 = time.time()\n",
    "#         print('''Le nombre de tranche avec romberg est '''+str(tranches_romberg_eau-1))\n",
    "#         print(abs(eps))\n",
    "#         print(end1 - start)\n",
    "#         end = True\n",
    "#     if end:\n",
    "#         break\n",
    "\n",
    "\n",
    "\n",
    "\n",
    "# while True is True:\n",
    "#     end = False\n",
    "#     start = time.time()\n",
    "#     n = tranches_romberg_os\n",
    "#     tranches_romberg_os += 1\n",
    "#     R = romberg_os(n)\n",
    "#     # print(R)\n",
    "#     # print(R[n-1])\n",
    "#     # print(len(R[n-1]))\n",
    "#     i = R[n-1]\n",
    "#     # print(i)\n",
    "#     eps = (1/(4**(n-1)-1))*(i[n-2]-R[n-2][n-2])\n",
    "#     r2.append(abs(eps))\n",
    "#     # print(eps, n)\n",
    "#     if abs(eps) < 1.48e-8:\n",
    "#         end = time.time()\n",
    "#         print('''Le nombre de tranche avec romberg est '''+str(tranches_romberg_os-1))\n",
    "#         print(abs(eps))\n",
    "#         print(end - start)\n",
    "#         end = True\n",
    "#     if end:\n",
    "#         break\n",
    "\n",
    "\n",
    "\n",
    "\n",
    "\n",
    "# for x in moy[:10]:\n",
    "#     print(integrate.quad(f_eau, 0, x*1.602e-13))"
   ]
  },
  {
   "cell_type": "markdown",
   "metadata": {},
   "source": [
    "La valeur de précision par défaut de la routine scipy.integrate.quad est de 1.49e-8. Il faut donc que le nombre de tranche utilisé pour calculé les portées des protons de moyal soit suffisament élevé pour atteindre cette précision."
   ]
  },
  {
   "cell_type": "markdown",
   "metadata": {},
   "source": [
    "Dans la cellule ci-dessous on mesure le temps nécessaire pour calculer la portée des 10000 protons de moyal avec la méthode de Romberg avec une erreur plus petite ou égale à 1.49e-8."
   ]
  },
  {
   "cell_type": "code",
   "execution_count": 157,
   "metadata": {},
   "outputs": [
    {
     "name": "stderr",
     "output_type": "stream",
     "text": [
      "C:\\Users\\louis\\AppData\\Local\\Temp/ipykernel_106484/3915085053.py:28: RuntimeWarning: divide by zero encountered in double_scalars\n",
      "  S_col_eau = 2 * np.pi * (r_e ** 2)* m_e * (c ** 2) * (densité_électronique_eau) * (1/Beta**2) * (np.log((2*m_e*(c**2)*(Beta**2)*(gamma**2)*T_emax)/((Énergie_moyenne_excitation_eau)**2))-2*(Beta**2))\n",
      "C:\\Users\\louis\\AppData\\Local\\Temp/ipykernel_106484/3915085053.py:28: RuntimeWarning: divide by zero encountered in log\n",
      "  S_col_eau = 2 * np.pi * (r_e ** 2)* m_e * (c ** 2) * (densité_électronique_eau) * (1/Beta**2) * (np.log((2*m_e*(c**2)*(Beta**2)*(gamma**2)*T_emax)/((Énergie_moyenne_excitation_eau)**2))-2*(Beta**2))\n"
     ]
    }
   ],
   "source": [
    "portée_romb = []\n",
    "for x in moy:\n",
    "    portée_romb.append(romberg_eau(10,x*1.602e-13)[-1][-2])"
   ]
  },
  {
   "cell_type": "code",
   "execution_count": 160,
   "metadata": {},
   "outputs": [
    {
     "name": "stdout",
     "output_type": "stream",
     "text": [
      "10000\n"
     ]
    },
    {
     "data": {
      "image/png": "[encoded data removed]",
      "text/plain": [
       "<Figure size 432x288 with 1 Axes>"
      ]
     },
     "metadata": {
      "needs_background": "light"
     },
     "output_type": "display_data"
    }
   ],
   "source": [
    "print(len(portée_romb))\n",
    "plt.hist(np.array(portée_romb), bins=100)\n",
    "plt.show()"
   ]
  },
  {
   "cell_type": "markdown",
   "metadata": {},
   "source": [
    "Dans le cellule ci-dessous on mesure le temps nécessaire pour calculer la portée des 10000 protons de moyal avec la fonction scipy.integrate.quad."
   ]
  },
  {
   "cell_type": "code",
   "execution_count": 121,
   "metadata": {},
   "outputs": [
    {
     "name": "stderr",
     "output_type": "stream",
     "text": [
      "C:\\Users\\louis\\AppData\\Local\\Temp/ipykernel_106484/1174035871.py:3: IntegrationWarning: The maximum number of subdivisions (50) has been achieved.\n",
      "  If increasing the limit yields no improvement it is advised to analyze \n",
      "  the integrand in order to determine the difficulties.  If the position of a \n",
      "  local difficulty can be determined (singularity, discontinuity) one will \n",
      "  probably gain from splitting up the interval and calling the integrator \n",
      "  on the subranges.  Perhaps a special-purpose integrator should be used.\n",
      "  portée_quad.append((integrate.quad(f_eau, 0, x*1.602e-13))[0])\n",
      "C:\\Users\\louis\\AppData\\Local\\Temp/ipykernel_106484/1174035871.py:3: IntegrationWarning: The algorithm does not converge.  Roundoff error is detected\n",
      "  in the extrapolation table.  It is assumed that the requested tolerance\n",
      "  cannot be achieved, and that the returned result (if full_output = 1) is \n",
      "  the best which can be obtained.\n",
      "  portée_quad.append((integrate.quad(f_eau, 0, x*1.602e-13))[0])\n"
     ]
    }
   ],
   "source": [
    "portée_quad = []\n",
    "for x in moy:\n",
    "    portée_quad.append((integrate.quad(f_eau, 0, x*1.602e-13))[0])\n"
   ]
  },
  {
   "cell_type": "code",
   "execution_count": 161,
   "metadata": {},
   "outputs": [
    {
     "name": "stdout",
     "output_type": "stream",
     "text": [
      "10000\n"
     ]
    },
    {
     "data": {
      "image/png": "[encoded data removed]",
      "text/plain": [
       "<Figure size 432x288 with 1 Axes>"
      ]
     },
     "metadata": {
      "needs_background": "light"
     },
     "output_type": "display_data"
    }
   ],
   "source": [
    "print(len(portée_quad))\n",
    "plt.hist(np.array(portée_quad), bins=100)\n",
    "plt.show()"
   ]
  },
  {
   "cell_type": "code",
   "execution_count": 151,
   "metadata": {},
   "outputs": [
    {
     "name": "stdout",
     "output_type": "stream",
     "text": [
      "Le temps nécessaire pour calculer la portée des 10000 protons dans l'eau liquide avec la méthode de Romberg est de 77.34562929999083s\n"
     ]
    }
   ],
   "source": [
    "# importing the required module\n",
    "import timeit\n",
    " \n",
    "# code snippet to be executed only once\n",
    "mysetup = '''from scipy.stats import moyal\n",
    "moy = moyal(loc = 150, scale = 4).rvs(size = 10000)\n",
    "import numpy as np\n",
    "r_e = 2.8179e-15\n",
    "m_e = 9.1094e-31\n",
    "c = 3e8\n",
    "m_p = 1.6726e-27\n",
    "Énergie_moyenne_excitation_eau = 75*1.602e-19\n",
    "Énergie_moyenne_excitation_os = 91.9*1.602e-19\n",
    "rho_eau = 997\n",
    "rho_os = 1850\n",
    "def densité_électronique(composition_atomique, masse_volumique):\n",
    "    nbr_électrons_volumique = 0\n",
    "    avogadro = 6.022e23\n",
    "    masse_atomique = {1: 0.001007975, 6: 0.0120106, 7: 0.014006855, 8: 0.0159940, 12: 0.0243055, 15: 0.03097396200, 16: 0.0320675, 20: 0.040078} \n",
    "    for x in composition_atomique:\n",
    "        nbr_électrons_volumique += masse_volumique * x[1] * avogadro * x[0] / masse_atomique[x[0]]\n",
    "    return nbr_électrons_volumique\n",
    "eau = [(1, 0.111894), (8, 0.888106)]\n",
    "densité_électronique_eau = densité_électronique(eau, 997)\n",
    "def f_eau(T):\n",
    "    gamma = T/(m_p*c**2) + 1\n",
    "    Beta = np.sqrt((gamma**2-1)/gamma**2)\n",
    "    a = 2*m_e*c**2\n",
    "    b = 1 + (m_e/m_p)**2\n",
    "    delta = 2*m_e/m_p\n",
    "    T_emax = (a*(gamma**2-1))/(b+(delta*gamma))\n",
    "    S_col_eau = 2 * np.pi * (r_e ** 2)* m_e * (c ** 2) * (densité_électronique_eau) * (1/Beta**2) * (np.log((2*m_e*(c**2)*(Beta**2)*(gamma**2)*T_emax)/((Énergie_moyenne_excitation_eau)**2))-2*(Beta**2))\n",
    "    return rho_eau/S_col_eau\n",
    "def trap_eau(N, E):\n",
    "    a = 0\n",
    "    b = E\n",
    "    h = (b-a)/N\n",
    "    s = 0.5*f_eau(a) + 0.5*f_eau(b)\n",
    "    for k in range(1,N):\n",
    "        s += f_eau(a+k*h)\n",
    "    return (h*s)\n",
    "def romberg_eau(t, E):\n",
    "    R = np.zeros((t, t))\n",
    "    for x in range(0, t):\n",
    "        R[x, 0] = trap_eau(2**x, E)\n",
    "        for j in range(0, x):\n",
    "            R[x, j+1] = R[x, j] + (1/((4**(j+1))-1)) * (R[x,j]-R[x-1,j])\n",
    "    return R'''\n",
    " \n",
    "# code snippet whose execution time is to be measured\n",
    "mycode = '''\n",
    "portée_romb = []\n",
    "for x in moy:\n",
    "    portée_romb.append(romberg_eau(10,x*1.602e-13)[-1][-2])\n",
    "'''\n",
    " \n",
    "# timeit statement\n",
    "print ('''Le temps nécessaire pour calculer la portée des 10000 protons dans l'eau liquide avec la méthode de Romberg est de '''+ str(timeit.timeit(setup = mysetup,\n",
    "                     stmt = mycode,\n",
    "                     number = 1))+'s')"
   ]
  },
  {
   "cell_type": "code",
   "execution_count": 146,
   "metadata": {},
   "outputs": [
    {
     "name": "stdout",
     "output_type": "stream",
     "text": [
      "Le temps nécessaire pour calculer la portée des 10000 protons dans l'os solide avec la méthode de Romberg est de 82.44746699999087s\n"
     ]
    }
   ],
   "source": [
    "# importing the required module\n",
    "import timeit\n",
    " \n",
    "# code snippet to be executed only once\n",
    "mysetup = '''from scipy.stats import moyal\n",
    "moy = moyal(loc = 150, scale = 4).rvs(size = 10000)\n",
    "import numpy as np\n",
    "r_e = 2.8179e-15\n",
    "m_e = 9.1094e-31\n",
    "c = 3e8\n",
    "m_p = 1.6726e-27\n",
    "Énergie_moyenne_excitation_eau = 75*1.602e-19\n",
    "Énergie_moyenne_excitation_os = 91.9*1.602e-19\n",
    "rho_eau = 997\n",
    "rho_os = 1850\n",
    "def densité_électronique(composition_atomique, masse_volumique):\n",
    "    nbr_électrons_volumique = 0\n",
    "    avogadro = 6.022e23\n",
    "    masse_atomique = {1: 0.001007975, 6: 0.0120106, 7: 0.014006855, 8: 0.0159940, 12: 0.0243055, 15: 0.03097396200, 16: 0.0320675, 20: 0.040078} \n",
    "    for x in composition_atomique:\n",
    "        nbr_électrons_volumique += masse_volumique * x[1] * avogadro * x[0] / masse_atomique[x[0]]\n",
    "    return nbr_électrons_volumique\n",
    "os = [(1,0.063984), (6,0.278000), (7,0.027000), (8,0.410016), (12,0.002), (15,0.07), (16,0.002), (20,0.147)]\n",
    "densité_électronique_os = densité_électronique(os, 1850)\n",
    "def f_os(T):\n",
    "    gamma = T/(m_p*c**2) + 1\n",
    "    Beta = np.sqrt((gamma**2-1)/gamma**2)\n",
    "    a = 2*m_e*c**2\n",
    "    b = 1 + (m_e/m_p)**2\n",
    "    delta = 2*m_e/m_p\n",
    "    T_emax = (a*(gamma**2-1))/(b+(delta*gamma))\n",
    "    S_col_os = 2 * np.pi * (r_e ** 2)* m_e * (c ** 2) * (densité_électronique_os) * (1/Beta**2) * (np.log((2*m_e*(c**2)*(Beta**2)*(gamma**2)*T_emax)/((Énergie_moyenne_excitation_os)**2))-2*(Beta**2))\n",
    "    return rho_os/S_col_os\n",
    "def trap_os(N, E):\n",
    "    a = 0\n",
    "    b = E\n",
    "    h = (b-a)/N\n",
    "    s = 0.5*f_os(a) + 0.5*f_os(b)\n",
    "    for k in range(1,N):\n",
    "        s += f_os(a+k*h)\n",
    "    return (h*s)\n",
    "def romberg_os(t, E):\n",
    "    R = np.zeros((t, t))\n",
    "    for x in range(0, t):\n",
    "        R[x, 0] = trap_os(2**x, E)\n",
    "        for j in range(0, x):\n",
    "            R[x, j+1] = R[x, j] + (1/((4**(j+1))-1)) * (R[x,j]-R[x-1,j])\n",
    "    return R'''\n",
    " \n",
    "# code snippet whose execution time is to be measured\n",
    "mycode = '''\n",
    "portée_romb = []\n",
    "for x in moy:\n",
    "    portée_romb.append(romberg_os(10,x*1.602e-13)[-1][-2])\n",
    "'''\n",
    " \n",
    "# timeit statement\n",
    "print ('''Le temps nécessaire pour calculer la portée des 10000 protons dans l'os solide avec la méthode de Romberg est de '''+ str(timeit.timeit(setup = mysetup,\n",
    "                     stmt = mycode,\n",
    "                     number = 1))+'s')"
   ]
  },
  {
   "cell_type": "code",
   "execution_count": 152,
   "metadata": {},
   "outputs": [
    {
     "name": "stdout",
     "output_type": "stream",
     "text": [
      "Le temps nécessaire pour calculer la portée des 10000 protons dans l'eau liquide avec la fonction quad est de 115.86811369998031s\n"
     ]
    }
   ],
   "source": [
    "# importing the required module\n",
    "import timeit\n",
    " \n",
    "# code snippet to be executed only once\n",
    "mysetup = '''from scipy.stats import moyal\n",
    "moy = moyal(loc = 150, scale = 4).rvs(size = 10000)\n",
    "import numpy as np\n",
    "from scipy import integrate\n",
    "r_e = 2.8179e-15\n",
    "m_e = 9.1094e-31\n",
    "c = 3e8\n",
    "m_p = 1.6726e-27\n",
    "Énergie_moyenne_excitation_eau = 75*1.602e-19\n",
    "Énergie_moyenne_excitation_os = 91.9*1.602e-19\n",
    "rho_eau = 997\n",
    "rho_os = 1850\n",
    "def densité_électronique(composition_atomique, masse_volumique):\n",
    "    nbr_électrons_volumique = 0\n",
    "    avogadro = 6.022e23\n",
    "    masse_atomique = {1: 0.001007975, 6: 0.0120106, 7: 0.014006855, 8: 0.0159940, 12: 0.0243055, 15: 0.03097396200, 16: 0.0320675, 20: 0.040078} \n",
    "    for x in composition_atomique:\n",
    "        nbr_électrons_volumique += masse_volumique * x[1] * avogadro * x[0] / masse_atomique[x[0]]\n",
    "    return nbr_électrons_volumique\n",
    "eau = [(1, 0.111894), (8, 0.888106)]\n",
    "densité_électronique_eau = densité_électronique(eau, 997)\n",
    "def f_eau(T):\n",
    "    gamma = T/(m_p*c**2) + 1\n",
    "    Beta = np.sqrt((gamma**2-1)/gamma**2)\n",
    "    a = 2*m_e*c**2\n",
    "    b = 1 + (m_e/m_p)**2\n",
    "    delta = 2*m_e/m_p\n",
    "    T_emax = (a*(gamma**2-1))/(b+(delta*gamma))\n",
    "    S_col_eau = 2 * np.pi * (r_e ** 2)* m_e * (c ** 2) * (densité_électronique_eau) * (1/Beta**2) * (np.log((2*m_e*(c**2)*(Beta**2)*(gamma**2)*T_emax)/((Énergie_moyenne_excitation_eau)**2))-2*(Beta**2))\n",
    "    return rho_eau/S_col_eau\n",
    "'''\n",
    " \n",
    "# code snippet whose execution time is to be measured\n",
    "mycode = '''\n",
    "portée_quad = []\n",
    "for x in moy:\n",
    "    portée_quad.append((integrate.quad(f_eau, 0, x*1.602e-13))[0])\n",
    "'''\n",
    " \n",
    "# timeit statement\n",
    "print ('''Le temps nécessaire pour calculer la portée des 10000 protons dans l'eau liquide avec la fonction quad est de '''+ str(timeit.timeit(setup = mysetup,\n",
    "                     stmt = mycode,\n",
    "                     number = 1))+'s')\n"
   ]
  },
  {
   "cell_type": "code",
   "execution_count": 150,
   "metadata": {},
   "outputs": [
    {
     "name": "stderr",
     "output_type": "stream",
     "text": [
      "<timeit-src>:39: IntegrationWarning: The integral is probably divergent, or slowly convergent.\n"
     ]
    },
    {
     "name": "stdout",
     "output_type": "stream",
     "text": [
      "Le temps nécessaire pour calculer la portée des 10000 protons dans l'os solide avec la fonction quad est de 107.01513829999021s\n"
     ]
    }
   ],
   "source": [
    "# importing the required module\n",
    "import timeit\n",
    " \n",
    "# code snippet to be executed only once\n",
    "mysetup = '''from scipy.stats import moyal\n",
    "moy = moyal(loc = 150, scale = 4).rvs(size = 10000)\n",
    "import numpy as np\n",
    "from scipy import integrate\n",
    "r_e = 2.8179e-15\n",
    "m_e = 9.1094e-31\n",
    "c = 3e8\n",
    "m_p = 1.6726e-27\n",
    "Énergie_moyenne_excitation_eau = 75*1.602e-19\n",
    "Énergie_moyenne_excitation_os = 91.9*1.602e-19\n",
    "rho_eau = 997\n",
    "rho_os = 1850\n",
    "def densité_électronique(composition_atomique, masse_volumique):\n",
    "    nbr_électrons_volumique = 0\n",
    "    avogadro = 6.022e23\n",
    "    masse_atomique = {1: 0.001007975, 6: 0.0120106, 7: 0.014006855, 8: 0.0159940, 12: 0.0243055, 15: 0.03097396200, 16: 0.0320675, 20: 0.040078} \n",
    "    for x in composition_atomique:\n",
    "        nbr_électrons_volumique += masse_volumique * x[1] * avogadro * x[0] / masse_atomique[x[0]]\n",
    "    return nbr_électrons_volumique\n",
    "os = [(1,0.063984), (6,0.278000), (7,0.027000), (8,0.410016), (12,0.002), (15,0.07), (16,0.002), (20,0.147)]\n",
    "densité_électronique_os = densité_électronique(os, 1850)\n",
    "def f_os(T):\n",
    "    gamma = T/(m_p*c**2) + 1\n",
    "    Beta = np.sqrt((gamma**2-1)/gamma**2)\n",
    "    a = 2*m_e*c**2\n",
    "    b = 1 + (m_e/m_p)**2\n",
    "    delta = 2*m_e/m_p\n",
    "    T_emax = (a*(gamma**2-1))/(b+(delta*gamma))\n",
    "    S_col_os = 2 * np.pi * (r_e ** 2)* m_e * (c ** 2) * (densité_électronique_os) * (1/Beta**2) * (np.log((2*m_e*(c**2)*(Beta**2)*(gamma**2)*T_emax)/((Énergie_moyenne_excitation_os)**2))-2*(Beta**2))\n",
    "    return rho_os/S_col_os\n",
    "'''\n",
    " \n",
    "# code snippet whose execution time is to be measured\n",
    "mycode = '''\n",
    "portée_quad = []\n",
    "for x in moy:\n",
    "    portée_quad.append((integrate.quad(f_os, 0, x*1.602e-13))[0])\n",
    "'''\n",
    " \n",
    "# timeit statement\n",
    "print ('''Le temps nécessaire pour calculer la portée des 10000 protons dans l'os solide avec la fonction quad est de '''+ str(timeit.timeit(setup = mysetup,\n",
    "                     stmt = mycode,\n",
    "                     number = 1))+'s')"
   ]
  }
 ],
 "metadata": {
  "interpreter": {
   "hash": "7b4b8ce1a686fd7089c2cecec15ebb2a862d279e2cb5d9cf582f94e3f5029527"
  },
  "kernelspec": {
   "display_name": "Python 3.9.6 64-bit",
   "language": "python",
   "name": "python3"
  },
  "language_info": {
   "codemirror_mode": {
    "name": "ipython",
    "version": 3
   },
   "file_extension": ".py",
   "mimetype": "text/x-python",
   "name": "python",
   "nbconvert_exporter": "python",
   "pygments_lexer": "ipython3",
   "version": "3.9.7"
  },
  "orig_nbformat": 4
 },
 "nbformat": 4,
 "nbformat_minor": 2
}
