{
 "cells": [
  {
   "cell_type": "markdown",
   "metadata": {},
   "source": [
    "Nous allons donc présenté dans le tableau ci-dessous les portées évaluées à l'aide de la méthode des trapèzes et la méthode de Romberg ainsi que les erreurs d'approximation pratique de celles-ci et l'erreur d'approximation obtenue analytiquement pour la méthode des trapèzes. Cette erreur obtenue analytiquement a en effet été obtenue grâce à l'équation suivante,\n",
    "$$\\epsilon=\\frac{1}{12}h^2[f^{'}(a)-f^{'}(b)]$$\n",
    "comme expliqué lors de la question précédente."
   ]
  },
  {
   "cell_type": "code",
   "execution_count": 9,
   "metadata": {},
   "outputs": [
    {
     "name": "stdout",
     "output_type": "stream",
     "text": [
      "+-----------------------+-------------------------------------------------------+-------------------------------------------+------------------------------------------------------+\n",
      "| Milieu de propagation | Erreur de la métode des trapèzes évaluée pratiquement | Erreur de la métode des trapèzes calculée | Erreur de la méthode de romberg évaluée pratiquement |\n",
      "+-----------------------+-------------------------------------------------------+-------------------------------------------+------------------------------------------------------+\n",
      "|      Eau liquide      |                 0.0001555307337071099                 |                  1.32e-16                 |                       4.16e-17                       |\n",
      "|       Os solide       |                 0.00025585202551307396                |                  1.41e-16                 |                       2.46e-17                       |\n",
      "+-----------------------+-------------------------------------------------------+-------------------------------------------+------------------------------------------------------+\n"
     ]
    }
   ],
   "source": [
    "from prettytable import PrettyTable\n",
    "\n",
    "# Specify the Column Names while initializing the Table \n",
    "myTable = PrettyTable([\"Milieu de propagation\", \"Erreur de la métode des trapèzes évaluée pratiquement\", \"Erreur de la métode des trapèzes calculée\", \"Erreur de la méthode de romberg évaluée pratiquement\"]) \n",
    "  \n",
    "# Add rows \n",
    "myTable.add_row([\"Eau liquide\", \"0.0001555307337071099\", \"1.32e-16\", \"4.16e-17\"]) \n",
    "myTable.add_row([\"Os solide\", \"0.00025585202551307396\", \"1.41e-16\", \"2.46e-17\"]) \n",
    "  \n",
    "print(myTable)"
   ]
  },
  {
   "cell_type": "markdown",
   "metadata": {},
   "source": [
    "Pour ce qui est de l'erreur sur la méthode des trapèzes, nous avons approximé celle-ci à l'aide de l'équation suivante:\n",
    "$$ch_i^2=\\frac{I_i-I_{i-1}}{3}$$\n",
    "Le nombre d'itérations choisi pour la valeur du tableau, donc le nombre de tranche utilisé pour approximé la valeur de l'intégrale donnant la portée, est de $2^{23}=8388608$ soit le nombre de tranches nécessaires pour dépasser la précision machine avec la méthode de Romberg. On observe donc que pour ce qui est de la méthode des trapèzes, cette erreur trouvée de manière pratique est largement supérieur à la précision machine. Pour atteindre celle-ci il faudrait un nombre de tranches immensément supérieur à $2^23$ ce qui demanderait une puissance de calcul largement supérieur à celle d'un ordinateur portable ou le temps de calcul serait extrêmement long. Toutefois, avec l'erreur calculée analytiquement pour la méthode des trapèzes on arrive avec une erreur inférieure à la précision machine pour un même nombre de tranche et avec un temps de calcul ridiculement court en comparaison à celui de l'erreur obtenue expérimentalement ($\\sim 0.1s$ vs plus de 4 heures). Le désavantge de cette méthode de calcul de l'erreur se trouve dans le fait qu'il faille trouver l'expression de la dérivée première de la fonction que l'on veut intégrer. \n",
    "Pour ce qui est de l'erreur expérimentale sur les valeurs obtenues avec la méthode de Romberg, la formule utilisée pour les obtenir est la suivante:\n",
    "$$c_mh_i^{2m}\\frac{1}{4^m-1}(R_{i,m}-R_{i-1,m})$$\n",
    "En demandant à l'algorithme de rapporter l'erreur la plus précise pour chaque itération de la méthode de Romberg ($I_x=2^x$ tranches) nous obtenons qu'il faut 23  itérations (8388608 tranches) pour atteindre la précision machine. Toutefois, la précison obtenue est inférieure à la précision machine (4.16e-17 et 2.46e-17 vs 2.2e-16) ce qui nous indique que le nombre de tranches nécssaires pour atteindre la précision machine avec la méthode de Romberg se situe plutôt entre $2^{22}$ et $2^{23}$ tranches. Malgré le nombre de tranches élevé requis pour atteindre la précision machine avec la méthode de Romberg, le temps de calcul est relativement court (environ 3 minutes pour un ordinateur portable) en comparaison au temps requis avec la méthode des trapèzes.\\\\\n",
    "On pourrait donc en conclure qu'il vaut la peine de prendre le temps de trouver l'expression de la dérivée première de la fonction que l'on veut intégrer pour obtenir une erreur plus précise plus rapidement par la suite."
   ]
  }
 ],
 "metadata": {
  "interpreter": {
   "hash": "7b4b8ce1a686fd7089c2cecec15ebb2a862d279e2cb5d9cf582f94e3f5029527"
  },
  "kernelspec": {
   "display_name": "Python 3.9.6 64-bit",
   "language": "python",
   "name": "python3"
  },
  "language_info": {
   "codemirror_mode": {
    "name": "ipython",
    "version": 3
   },
   "file_extension": ".py",
   "mimetype": "text/x-python",
   "name": "python",
   "nbconvert_exporter": "python",
   "pygments_lexer": "ipython3",
   "version": "3.9.7"
  },
  "orig_nbformat": 4
 },
 "nbformat": 4,
 "nbformat_minor": 2
}
