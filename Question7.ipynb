{
 "cells": [
  {
   "cell_type": "markdown",
   "metadata": {},
   "source": [
    "En utilisant le pouvoir d'arrêt seulement en fonction de $\\gamma$ obtenu à la question 4 et en sachant que $\\gamma$ est seulement en fonction de $T$, nous pouvons calculer la dérivée du pouvoir d'arrêt à l'aide du théorème de dérivation des fonctions composées ainsi:\n",
    "\\begin{gather*}\n",
    "    \\frac{\\text{d}S_{col}}{\\text{d}T}=\\frac{\\text{d}S_{col}}{\\text{d}\\gamma}\\frac{\\text{d}\\gamma}{\\text{d}T}\n",
    "\\end{gather*}\n",
    "Commençons donc par calculer la dérivée de $S_{col}$ par rapport à $\\gamma$.\n",
    "\\begin{gather*}\n",
    "    \\frac{\\text{d}S_{col}}{\\text{d}\\gamma}=\\frac{\\text{d}}{\\text{d}\\gamma}\\left[\\frac{U\\gamma^2}{\\gamma^2-1}\\ln\\left(\\frac{k(\\gamma^2-1)^2}{b+\\delta\\gamma}\\right)-2U\\right]\n",
    "\\end{gather*}\n",
    "En effectuant une dérivée de produit:\n",
    "\\begin{gather*}\n",
    "    \\frac{\\text{d}S_{col}}{\\text{d}\\gamma}=\\frac{\\text{d}}{\\text{d}\\gamma}\\left(\\frac{U\\gamma^2}{\\gamma^2-1}\\right)\\ln\\left(\\frac{k(\\gamma^2-1)^2}{b+\\delta\\gamma}\\right)+\\frac{U\\gamma^2}{\\gamma^2-1}\\frac{\\text{d}}{\\text{d}\\gamma}\\left[\\ln\\left(\\frac{k(\\gamma^2-1)^2}{b+\\delta\\gamma}\\right)\\right]\n",
    "\\end{gather*}\n",
    "Le premier terme est une dérivation de quotient, ce qui nous donne:\n",
    "\\begin{gather*}\n",
    "    \\frac{\\text{d}S_{col}}{\\text{d}\\gamma}= -\\frac{U(2\\gamma(\\gamma^2-1)-\\gamma^2(2\\gamma))}{(\\gamma^2-1)^2}\\ln\\left(\\frac{k(\\gamma^2-1)^2}{b+\\delta\\gamma}\\right)+\\frac{U\\gamma^2}{\\gamma^2-1}\\frac{\\text{d}}{\\text{d}\\gamma}\\left[\\ln\\left(\\frac{k(\\gamma^2-1)^2}{b+\\delta\\gamma}\\right)\\right]\\\\\n",
    "    \\frac{\\text{d}S_{col}}{\\text{d}\\gamma}=-\\frac{U(2\\gamma^3-2\\gamma-2\\gamma^3)}{(\\gamma^2-1)^2}\\ln\\left(\\frac{k(\\gamma^2-1)^2}{b+\\delta\\gamma}\\right)+\\frac{U\\gamma^2}{\\gamma^2-1}\\frac{\\text{d}}{\\text{d}\\gamma}\\left[\\ln\\left(\\frac{k(\\gamma^2-1)^2}{b+\\delta\\gamma}\\right)\\right]\\\\\n",
    "    \\frac{\\text{d}S_{col}}{\\text{d}\\gamma}=-\\frac{2U\\gamma}{(\\gamma^2-1)^2}\\ln\\left(\\frac{k(\\gamma^2-1)^2}{b+\\delta\\gamma}\\right)+\\frac{U\\gamma^2}{\\gamma^2-1}\\frac{\\text{d}}{\\text{d}\\gamma}\\left[\\ln\\left(\\frac{k(\\gamma^2-1)^2}{b+\\delta\\gamma}\\right)\\right]\\\\\n",
    "\\end{gather*}\n",
    "Pour le deuxième terme, on effectue également la dérivation:\n",
    "\\begin{gather*}\n",
    "    \\frac{\\text{d}S_{col}}{\\text{d}\\gamma}=-\\frac{2U\\gamma}{(\\gamma^2-1)^2}\\ln\\left(\\frac{k(\\gamma^2-1)^2}{b+\\delta\\gamma}\\right)+\\frac{U\\gamma^2}{\\gamma^2-1}\\left[\\frac{b+\\delta\\gamma}{k(\\gamma^2-1)^2}\\right]\\frac{\\text{d}}{\\text{d}\\gamma}\\left(\\frac{k(\\gamma^2-1)^2}{b+\\delta\\gamma}\\right)\\\\\n",
    "    \\frac{\\text{d}S_{col}}{\\text{d}\\gamma}=-\\frac{2U\\gamma}{(\\gamma^2-1)^2}\\ln\\left(\\frac{k(\\gamma^2-1)^2}{b+\\delta\\gamma}\\right)+\\frac{U\\gamma^2}{\\gamma^2-1}\\left[\\frac{b+\\delta\\gamma}{k(\\gamma^2-1)^2}\\right]\\left(\\frac{4k\\gamma(\\gamma^2-1)(b+\\delta\\gamma)-\\delta k(\\gamma^2-1)^2}{(b+\\delta\\gamma)^2}\\right)\\\\\n",
    "    \\frac{\\text{d}S_{col}}{\\text{d}\\gamma}=\\bigg[-\\frac{2U\\gamma}{(\\gamma^2-1)^2}\\ln\\left(\\frac{k(\\gamma^2-1)^2}{b+\\delta\\gamma}\\right)+\\frac{U\\gamma^2}{\\gamma^2-1}\\frac{3δγ^4+4bγ^3-2δγ^2-4bγ-δ}{\\left(γ^2-1\\right)^2\\left(δγ+b\\right)}\\bigg]\n",
    "\\end{gather*}"
   ]
  },
  {
   "cell_type": "markdown",
   "metadata": {},
   "source": [
    "Et puisque la dérivée de $\\gamma$ est la suivante:\n",
    "$$\\frac{\\text{d}\\gamma}{\\text{dT}}=\\frac{1}{m_pc^2}$$\n",
    "\n",
    "On peut exprimer $\\frac{\\text{d}S_{col}}{\\text{d}\\gamma}\\frac{\\text{d}\\gamma}{\\text{d}T}$:\n",
    "$$\\frac{\\text{d}S_{col}}{\\text{d}\\gamma}\\frac{\\text{d}\\gamma}{\\text{d}T}=\\bigg[-\\frac{2U\\gamma}{(\\gamma^2-1)^2}\\ln\\left(\\frac{k(\\gamma^2-1)^2}{b+\\delta\\gamma}\\right)+\\frac{U\\gamma^2}{\\gamma^2-1}\\frac{3δγ^4+4bγ^3-2δγ^2-4bγ-δ}{\\left(γ^2-1\\right)^2\\left(δγ+b\\right)}\\bigg]\\frac{1}{m_pc^2}=\\frac{\\text{d}S_{col}}{\\text{d}T}$$\n",
    "La fonction a intégrer étant $\\frac{\\rho}{S_{col}}$, on peut donc exprimer la dérivée première de cette expression comme:\n",
    "$$\\frac{-S_{col}^{'}\\rho}{S_{col}^2}=\\frac{\\bigg[-\\frac{2U\\gamma}{(\\gamma^2-1)^2}\\ln\\left(\\frac{k(\\gamma^2-1)^2}{b+\\delta\\gamma}\\right)+\\frac{U\\gamma^2}{\\gamma^2-1}\\frac{3δγ^4+4bγ^3-2δγ^2-4bγ-δ}{\\left(γ^2-1\\right)^2\\left(δγ+b\\right)}\\bigg]\\frac{\\rho}{m_pc^2}}{\\left[\\frac{U\\gamma^2}{\\gamma^2-1}\\ln\\left(\\frac{k(\\gamma^2-1)^2}{b+\\delta\\gamma}\\right)-2U\\right]^2}$$"
   ]
  },
  {
   "cell_type": "code",
   "execution_count": 6,
   "metadata": {},
   "outputs": [],
   "source": [
    "import numpy as np\n",
    "import matplotlib.pyplot as plt\n",
    "import time\n",
    "\n",
    "\n",
    "T_i = 150*1.602e-13\n",
    "r_e = 2.8179e-15\n",
    "m_e = 9.1094e-31\n",
    "c = 3e8\n",
    "m_p = 1.6726e-27\n",
    "def densité_électronique(composition_atomique, masse_volumique):\n",
    "    nbr_électrons_volumique = 0\n",
    "    avogadro = 6.022e23\n",
    "    masse_atomique = {1: 0.001007975, 6: 0.0120106, 7: 0.014006855, 8: 0.0159940, 12: 0.0243055, 15: 0.03097396200, 16: 0.0320675, 20: 0.040078} \n",
    "    for x in composition_atomique:\n",
    "        nbr_électrons_volumique += masse_volumique * x[1] * avogadro * x[0] / masse_atomique[x[0]]\n",
    "    return nbr_électrons_volumique\n",
    "'''Fonction qui rapporte la dérivée de l'expression à intégrer pour obtenir la portée. Il faut donner comme premier argument l'énergie du proton en joules et en deuxième argument un string contenant le nom du matériel 'eau' ou 'os'. '''\n",
    "def deri_fonction(T, substance):\n",
    "    gamma = T/(m_p*c**2) + 1\n",
    "    Beta = np.sqrt((gamma**2-1)/gamma**2)\n",
    "    a = 2*m_e*c**2\n",
    "    b = 1 + (m_e/m_p)**2\n",
    "    delta = 2*m_e/m_p\n",
    "    T_emax = (a*(gamma**2-1))/(b+(delta*gamma))\n",
    "    Énergie_moyenne_excitation_eau = 75*1.602e-19\n",
    "    Énergie_moyenne_excitation_os = 91.9*1.602e-19\n",
    "    rho_eau = 997\n",
    "    rho_os = 1850\n",
    "    eau = [(1, 0.111894), (8, 0.888106)]\n",
    "    densité_électronique_eau = densité_électronique(eau, 997)\n",
    "    os = [(1,0.063984), (6,0.278000), (7,0.027000), (8,0.410016), (12,0.002), (15,0.07), (16,0.002), (20,0.147)]\n",
    "    densité_électronique_os = densité_électronique(os, 1850)\n",
    "    S_col_eau = 2 * np.pi * (r_e ** 2)* m_e * (c ** 2) * (densité_électronique_eau*(10**3)) * (1/Beta**2) * (np.log((2*m_e*(c**2)*(Beta**2)*(gamma**2)*T_emax)/((Énergie_moyenne_excitation_eau*1.60218e-19)**2))-2*(Beta**2))\n",
    "    S_col_os = 2 * np.pi * (r_e ** 2)* m_e * (c ** 2) * (densité_électronique_os*(10**3)) * (1/Beta**2) * (np.log((2*m_e*(c**2)*(Beta**2)*(gamma**2)*T_emax)/((Énergie_moyenne_excitation_os*1.60218e-19)**2))-2*(Beta**2))\n",
    "    U_os = 2 * np.pi * (r_e ** 2)* m_e * (c ** 2) * (densité_électronique_os*(10**3))\n",
    "    U_eau = 2 * np.pi * (r_e ** 2)* m_e * (c ** 2) * (densité_électronique_eau*(10**3))\n",
    "    k_eau = a**2/Énergie_moyenne_excitation_eau\n",
    "    k_os = a**2/Énergie_moyenne_excitation_os\n",
    "    S_col_prime_eau = (((2*U_eau*gamma)/(gamma**2-1)**2)*np.log(k_eau*(gamma**2-1)**2/(b+delta*gamma))+((U_eau*gamma**2)*(3*delta*(gamma**4)+4*b*(gamma**3)-2*delta*(gamma**2)-4*b*gamma-delta))/((((gamma**2)-1)**3)(delta+b)))*(1/(m_p*c**2))\n",
    "    S_col_prime_os = (((2*U_os*gamma)/(gamma**2-1)**2)*np.log(k_os*(gamma**2-1)**2/(b+delta*gamma))+((U_os*gamma**2)*(3*delta*(gamma**4)+4*b*(gamma**3)-2*delta*(gamma**2)-4*b*gamma-delta))/((((gamma**2)-1)**3)(delta+b)))*(1/(m_p*c**2))\n",
    "    if substance == 'eau':\n",
    "        return (-S_col_prime_eau*rho_eau/(S_col_eau**2))\n",
    "    if substance == 'os':\n",
    "        return (-S_col_prime_os*rho_os/(S_col_os**2))\n",
    "\n"
   ]
  },
  {
   "cell_type": "markdown",
   "metadata": {},
   "source": [
    "La cellule ci-dessus contient donc une fonction qui rapporte la dérivée analytique de la fonction qu'il faut intégré pour obtenir la portée. Cette dérivée servira à obtenir l'erreur d'approximation analytique pour la portée obtenue avec la méthode des trapèzes grâce à la formule suivante:\n",
    "$$\\epsilon=\\frac{1}{12}h^2[f^{'}(a)-f^{'}(b)]$$"
   ]
  },
  {
   "cell_type": "markdown",
   "metadata": {},
   "source": []
  },
  {
   "cell_type": "markdown",
   "metadata": {},
   "source": [
    "On peut exprimer $\\frac{\\text{d}S_{col}}{\\text{d}\\gamma}\\frac{\\text{d}\\gamma}{\\text{d}T}$:\n",
    "$$\\frac{\\text{d}S_{col}}{\\text{d}\\gamma}\\frac{\\text{d}\\gamma}{\\text{d}T}=\\bigg[\\frac{2U\\gamma}{(\\gamma^2-1)^2}\\ln\\left(\\frac{k(\\gamma^2-1)^2}{b+\\delta\\gamma}\\right)+\\frac{U\\gamma^2}{\\gamma^2-1}\\frac{3δγ^4+4bγ^3-2δγ^2-4bγ-δ}{\\left(γ^2-1\\right)^2\\left(δγ+b\\right)}\\bigg]\\frac{1}{m_pc^2}=\\frac{\\text{d}S_{col}}{\\text{d}T}$$\n",
    "La fonction a intégrer étant $\\frac{\\rho}{S_{col}}$, on peut donc exprimer la dérivée première de cette expression comme:\n",
    "$$\\frac{-S_{col}^{'}\\rho}{S_{col}^2}=\\frac{-\\bigg[\\frac{2U\\gamma}{(\\gamma^2-1)^2}\\ln\\left(\\frac{k(\\gamma^2-1)^2}{b+\\delta\\gamma}\\right)+\\frac{U\\gamma^2}{\\gamma^2-1}\\frac{\\text{d}}{\\text{d}\\gamma}\\left[\\ln\\left(\\frac{k(\\gamma^2-1)^2}{b+\\delta\\gamma}\\right)\\right]\\bigg]\\frac{\\rho}{m_pc^2}}{\\left[\\frac{U\\gamma^2}{\\gamma^2-1}\\ln\\left(\\frac{k(\\gamma^2-1)^2}{b+\\delta\\gamma}\\right)-2U\\right]^2}$$"
   ]
  }
 ],
 "metadata": {
  "interpreter": {
   "hash": "7b4b8ce1a686fd7089c2cecec15ebb2a862d279e2cb5d9cf582f94e3f5029527"
  },
  "kernelspec": {
   "display_name": "Python 3.9.6 64-bit",
   "language": "python",
   "name": "python3"
  },
  "language_info": {
   "codemirror_mode": {
    "name": "ipython",
    "version": 3
   },
   "file_extension": ".py",
   "mimetype": "text/x-python",
   "name": "python",
   "nbconvert_exporter": "python",
   "pygments_lexer": "ipython3",
   "version": "3.9.7"
  },
  "orig_nbformat": 4
 },
 "nbformat": 4,
 "nbformat_minor": 2
}
