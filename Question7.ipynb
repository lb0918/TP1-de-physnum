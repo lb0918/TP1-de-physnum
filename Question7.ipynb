{
 "cells": [
  {
   "cell_type": "markdown",
   "metadata": {},
   "source": [
    "En utilisant le pouvoir d'arrêt seulement en fonction de $\\gamma$ obtenu à la question 4 et en sachant que $\\gamma$ est seulement en fonction de $T$, nous pouvons calculer la dérivée du pouvoir d'arrêt à l'aide du théorème de dérivation des fonctions composées ainsi:\n",
    "\\begin{gather*}\n",
    "    \\fracd\\text{d}v{S_{col}\\text{d}}{T}fracd\\text{d}v{S_{col}\\text{d}}{\\gammafracd\\text{d}v{\\gamma\\text{d}}{T}\n",
    "\\end{gather*}\n",
    "Commençons donc par calculer la dérivée de $S_{col}$ par rapport à $\\gamma$.\n",
    "\\begin{gather*}\n",
    "   fracd\\text{d}v{S_{col}\\text{d}}{\\gamma}fracd\\text{d}}{\\text{d}v{\\gammaleftty[\\frac{U\\gamma^2}{\\gamma^2-1}\\\\leftln(\\frac{k(\\gamma^2-1)^2}{b+\\delta\\gamm\\righta})-\\right2U]\n",
    "\\end{gather*}\n",
    "En effectuant une dérivée de produit:\n",
    "\\begin{gather*}\n",
    "   fracd\\text{d}v{S_{col}\\text{d}}{\\gamma}frac{\\text{d}}d\\text{d}v{\\gamm\\lefta}(\\frac{U\\gamma^2}{\\gamma^2-\\right1})\\\\leftln(\\frac{k(\\gamma^2-1)^2}{b+\\delta\\gamm\\righta})+\\frac{U\\gamma^2}{\\gamma^2-\\frac{\\text{d}}{\\text{d}v{\\gam}\\leftty[\\\\leftln(\\frac{k(\\gamma^2-1)^2}{b+\\delta\\gamm\\righta\\right})]\n",
    "\\end{gather*}\n",
    "Le premier terme est une dérivation de quotient, ce qui nous donne:\n",
    "\\begin{gather*}\n",
    "   fracd\\text{d}v{S_{col}\\text{d}}{\\gamma}=\\frac{U(2\\gamma(\\gamma^2-1)-\\gamma^2(2\\gamma))}{(\\gamma^2-1)^2}\\\\leftln(\\frac{k(\\gamma^2-1)^2}{b+\\delta\\gamm\\righta})+\\frac{U\\gamma^2}{\\gamma^2-1frac{\\text{d}}d\\text{d}v{\\gammaleftty[\\\\leftln(\\frac{k(\\gamma^2-1)^2}{b+\\delta\\gamm\\righta\\right})]\\\\\n",
    "  \\frac{\\text{d}S_{col}}{\\text{d}\\gamma}a}=\\frac{U(2\\gamma^3-2\\gamma-2\\gamma^3)}{(\\gamma^2-1)^2}\\\\leftln(\\frac{k(\\gamma^2-1)^2}{b+\\delta\\gamm\\righta})+\\frac{U\\gamma^2}{\\gamma^2-1frac{\\text{d}}d\\text{d}v{\\gamm\\leftty[\\\\leftln(\\frac{k(\\gamma^2-1)^2}{b+\\delta\\gamm\\righta\\right})]\\\\\n",
    "  \\frac{\\text{d}S_{col}}{\\text{d}\\gamma}a}=\\frac{2U\\gamma}{(\\gamma^2-1)^2}\\\\leftln(\\frac{k(\\gamma^2-1)^2}{b+\\delta\\gamm\\righta})+\\frac{U\\gamma^2}{\\gamma^2-1frac{\\text{d}}d\\text{d}v{\\gamm\\leftty[\\\\leftln(\\frac{k(\\gamma^2-1)^2}{b+\\delta\\gamm\\righta\\right})]\\\\\n",
    "\\end{gather*}"
   ]
  },
  {
   "cell_type": "markdown",
   "metadata": {},
   "source": []
  },
  {
   "cell_type": "markdown",
   "metadata": {},
   "source": []
  }
 ],
 "metadata": {
  "interpreter": {
   "hash": "7b4b8ce1a686fd7089c2cecec15ebb2a862d279e2cb5d9cf582f94e3f5029527"
  },
  "kernelspec": {
   "display_name": "Python 3.9.6 64-bit",
   "language": "python",
   "name": "python3"
  },
  "language_info": {
   "name": "python",
   "version": "3.9.6"
  },
  "orig_nbformat": 4
 },
 "nbformat": 4,
 "nbformat_minor": 2
}
