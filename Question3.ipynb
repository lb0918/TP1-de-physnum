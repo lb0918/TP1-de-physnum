{
 "cells": [
  {
   "cell_type": "markdown",
   "metadata": {},
   "source": [
    "On intègre l'inverse du pouvoir d'arrêt pour déterminer la portée  "
   ]
  },
  {
   "cell_type": "markdown",
   "metadata": {},
   "source": [
    " , car plus le pouvoir d'arrêt etst élevé, moins pla partoiicule pourra parvcourir de dosistanceé. La porteé et le pouboivoir d'arrêt sont donc invesrrsement proportionne;ll."
   ]
  }
 ],
 "metadata": {
  "language_info": {
   "name": "python"
  },
  "orig_nbformat": 4
 },
 "nbformat": 4,
 "nbformat_minor": 2
}
