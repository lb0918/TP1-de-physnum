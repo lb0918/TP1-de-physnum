{
 "cells": [
  {
   "cell_type": "code",
   "execution_count": 1,
   "metadata": {},
   "outputs": [],
   "source": [
    "import numpy as np\n",
    "import matplotlib.pyplot as plt\n",
    "from scipy.stats import moyal\n",
    "from scipy.stats import skew\n",
    "from scipy import integrate\n",
    "import timeit"
   ]
  },
  {
   "cell_type": "code",
   "execution_count": 9,
   "metadata": {},
   "outputs": [
    {
     "name": "stdout",
     "output_type": "stream",
     "text": [
      "8.722091671134e-11\n"
     ]
    }
   ],
   "source": [
    "T_i = 150*1.602e-13\n",
    "r_e = 2.8179e-15\n",
    "m_e = 9.1094e-31\n",
    "c = 3e8\n",
    "m_p = 1.6726e-27\n",
    "Énergie_moyenne_excitation_eau = 75*1.602e-19\n",
    "Énergie_moyenne_excitation_os = 91.9*1.602e-19\n",
    "rho_eau = 997\n",
    "rho_os = 1850\n",
    "def densité_électronique(composition_atomique, masse_volumique):\n",
    "    nbr_électrons_volumique = 0\n",
    "    avogadro = 6.022e23\n",
    "    masse_atomique = {1: 0.001007975, 6: 0.0120106, 7: 0.014006855, 8: 0.0159940, 12: 0.0243055, 15: 0.03097396200, 16: 0.0320675, 20: 0.040078} \n",
    "    for x in composition_atomique:\n",
    "        nbr_électrons_volumique += masse_volumique * x[1] * avogadro * x[0] / masse_atomique[x[0]]\n",
    "    return nbr_électrons_volumique\n",
    "eau = [(1, 0.111894), (8, 0.888106)]\n",
    "densité_électronique_eau = densité_électronique(eau, 997)\n",
    "os = [(1,0.063984), (6,0.278000), (7,0.027000), (8,0.410016), (12,0.002), (15,0.07), (16,0.002), (20,0.147)]\n",
    "densité_électronique_os = densité_électronique(os, 1850)\n",
    "def f_eau(T):\n",
    "    gamma = T/(m_p*c**2) + 1\n",
    "    Beta = np.sqrt((gamma**2-1)/gamma**2)\n",
    "    a = 2*m_e*c**2\n",
    "    b = 1 + (m_e/m_p)**2\n",
    "    delta = 2*m_e/m_p\n",
    "    T_emax = (a*(gamma**2-1))/(b+(delta*gamma))\n",
    "    S_col_eau = 2 * np.pi * (r_e ** 2)* m_e * (c ** 2) * (densité_électronique_eau) * (1/Beta**2) * (np.log((2*m_e*(c**2)*(Beta**2)*(gamma**2)*T_emax)/((Énergie_moyenne_excitation_eau)**2))-2*(Beta**2))\n",
    "    return S_col_eau\n",
    "def f_os(T):\n",
    "    gamma = T/(m_p*c**2) + 1\n",
    "    Beta = np.sqrt((gamma**2-1)/gamma**2)\n",
    "    a = 2*m_e*c**2\n",
    "    b = 1 + (m_e/m_p)**2\n",
    "    delta = 2*m_e/m_p\n",
    "    T_emax = (a*(gamma**2-1))/(b+(delta*gamma))\n",
    "    S_col_os = 2 * np.pi * (r_e ** 2)* m_e * (c ** 2) * (densité_électronique_os) * (1/Beta**2) * (np.log((2*m_e*(c**2)*(Beta**2)*(gamma**2)*T_emax)/((Énergie_moyenne_excitation_os)**2))-2*(Beta**2))\n",
    "    # print(type(T))\n",
    "    return S_col_os\n",
    "print(f_eau(150*1.602e-13))"
   ]
  },
  {
   "cell_type": "code",
   "execution_count": 27,
   "metadata": {},
   "outputs": [
    {
     "data": {
      "image/png": "[encoded data removed]",
      "text/plain": [
       "<Figure size 432x288 with 1 Axes>"
      ]
     },
     "metadata": {
      "needs_background": "light"
     },
     "output_type": "display_data"
    },
    {
     "data": {
      "image/png": "[encoded data removed]",
      "text/plain": [
       "<Figure size 432x288 with 1 Axes>"
      ]
     },
     "metadata": {
      "needs_background": "light"
     },
     "output_type": "display_data"
    }
   ],
   "source": [
    "\n",
    "\n",
    "\n",
    "s = 0.0001\n",
    "profondeur_eau = []\n",
    "depot_eau = [0]\n",
    "profondeur_os = []\n",
    "depot_os = [0]\n",
    "for x in range(4000):\n",
    "    if sum(depot_eau) >= 147*1.602e-13:\n",
    "        depot_eau.append(0)\n",
    "    else:\n",
    "        depot_eau.append((f_eau((150*1.602e-13)-sum(depot_eau)))*s)\n",
    "    profondeur_eau.append(s*x)\n",
    "# print(depot)\n",
    "plt.plot(profondeur_eau, depot_eau[1:])\n",
    "plt.xlabel(\"Profondeur [m]\")\n",
    "plt.ylabel('Dépot énergétique [J]')\n",
    "plt.show()\n",
    "\n",
    "\n",
    "for x in range(4000):\n",
    "    if sum(depot_os) >= 147*1.602e-13:\n",
    "        depot_os.append(0)\n",
    "    else:\n",
    "        depot_os.append((f_os((150*1.602e-13)-sum(depot_os)))*s)\n",
    "    profondeur_os.append(s*x)\n",
    "# print(depot)\n",
    "plt.plot(profondeur_os, depot_os[1:])\n",
    "plt.xlabel(\"Profondeur [m]\")\n",
    "plt.ylabel('Dépot énergétique [J]')\n",
    "plt.show()"
   ]
  }
 ],
 "metadata": {
  "interpreter": {
   "hash": "7817c293db90af70706bea4d33c4031f2d002631b9f9d0f87485988310bb0118"
  },
  "kernelspec": {
   "display_name": "Python 3.9.7 64-bit",
   "language": "python",
   "name": "python3"
  },
  "language_info": {
   "codemirror_mode": {
    "name": "ipython",
    "version": 3
   },
   "file_extension": ".py",
   "mimetype": "text/x-python",
   "name": "python",
   "nbconvert_exporter": "python",
   "pygments_lexer": "ipython3",
   "version": "3.9.7"
  },
  "orig_nbformat": 4
 },
 "nbformat": 4,
 "nbformat_minor": 2
}
