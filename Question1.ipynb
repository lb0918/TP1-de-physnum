{
 "cells": [
  {
   "cell_type": "code",
   "execution_count": 2,
   "metadata": {},
   "outputs": [],
   "source": [
    "import numpy as np\n",
    "import matplotlib.pyplot as plt"
   ]
  },
  {
   "cell_type": "markdown",
   "metadata": {},
   "source": [
    "Notre fonction prend en argument la composition du milieu sous forme de liste de tuple. Pour chaque atome différent contenu dans le milieu, une liste contenant le numéro atomique ainsi que la fraction par poid obtenu à l'aide du site web https://physics.nist.gov/cgi-bin/Star/compos.pl?refer=ap&matno=119 doit être ajouté à la liste composition_atomique. Aussi, la masse volumique du milieu doit être donnée en argument. L'argument composition a donc la forme suivante:"
   ]
  },
  {
   "cell_type": "markdown",
   "metadata": {},
   "source": [
    "composition_atomique = [(Z_1, frac_by_weight_1), (Z_2, frac_by_weight_2), ...,  (Z_n, frac_by_weight_n)]"
   ]
  },
  {
   "cell_type": "markdown",
   "metadata": {},
   "source": [
    "La fonction est donc la suivante:"
   ]
  },
  {
   "cell_type": "code",
   "execution_count": 3,
   "metadata": {},
   "outputs": [],
   "source": [
    "def densité_électronique(composition_atomique, masse_volumique):\n",
    "    nbr_électrons_volumique = 0\n",
    "    avogadro = 6.023e23\n",
    "    masse_atomique = {1: 1.007975, 6: 12.0106, 7: 14.006855, 8: 15.9940, 12: 24.3055, 15: 30.97396200, 16: 32.0675, 20: 40.078} \n",
    "    for x in composition_atomique:\n",
    "        nbr_électrons_volumique += masse_volumique * x[1] * avogadro * x[0] / masse_atomique[x[0]]\n",
    "    return nbr_électrons_volumique"
   ]
  },
  {
   "cell_type": "markdown",
   "metadata": {},
   "source": [
    "Ci-dessous, nous allons calculer la densité électronique de l'eau liquide. En effet, sachant que la densité de l'eau liquide est de 1 g/cm^3 et que la fraction du poids relié à l'hydrogène (Z=1) est de 0,111894 et celle relié à l'oxygène (Z=8) est de 0,888106, nous pouvons calculer la densité électronique de l'eau liquide à l'aide de la fonction _densité_électronique_ en lui donnant en argument les données précédentes."
   ]
  },
  {
   "cell_type": "code",
   "execution_count": 4,
   "metadata": {},
   "outputs": [
    {
     "name": "stdout",
     "output_type": "stream",
     "text": [
      "3.3441399781206795e+23\n"
     ]
    }
   ],
   "source": [
    "eau = [(1, 0.111894), (8, 0.888106)]\n",
    "densité_électronique_eau = densité_électronique(eau, 1)\n",
    "print(densité_électronique_eau)"
   ]
  },
  {
   "cell_type": "markdown",
   "metadata": {},
   "source": [
    "Maintenant, pour ce qui est de l'os compact, nous allons donné à la liste de tuple _os_ le numéro atomique suivi de la fraction du poids relié à ce numéro atomique. Avec la fonction *densité_électronique*, nous pouvons donné en argument la liste *os* ainsi que la densité pour calculer la densité électronique d'un os solide."
   ]
  },
  {
   "cell_type": "code",
   "execution_count": 5,
   "metadata": {},
   "outputs": [
    {
     "name": "stdout",
     "output_type": "stream",
     "text": [
      "La densité électronique d'un os solide est de 5.907502679399622e+23 électrons par centimètres cubes\n"
     ]
    }
   ],
   "source": [
    "os = [(1,0.063984), (6,0.278000), (7,0.027000), (8,0.410016), (12,0.002), (15,0.07), (16,0.002), (20,0.147)]\n",
    "densité_électronique_os = densité_électronique(os, 1.85)\n",
    "print('''La densité électronique d'un os solide est de '''+str(densité_électronique_os)+''' électrons par centimètres cubes''')"
   ]
  },
  {
   "cell_type": "markdown",
   "metadata": {},
   "source": [
    "Voici ci-dessous, les énergies moyenne d'excitation de nos deux milieux en eV obtenues encore une fois sur le site web suivant:https://physics.nist.gov/cgi-bin/Star/compos.pl?refer=ap&matno=119"
   ]
  },
  {
   "cell_type": "code",
   "execution_count": 6,
   "metadata": {},
   "outputs": [],
   "source": [
    "Énergie_moyenne_excitation_eau = 75\n",
    "Énergie_moyenne_excitation_os = 91.9"
   ]
  },
  {
   "cell_type": "code",
   "execution_count": 7,
   "metadata": {},
   "outputs": [
    {
     "data": {
      "image/png": "[encoded data removed]",
      "text/plain": [
       "<Figure size 432x288 with 1 Axes>"
      ]
     },
     "metadata": {
      "needs_background": "light"
     },
     "output_type": "display_data"
    },
    {
     "data": {
      "image/png": "[encoded data removed]",
      "text/plain": [
       "<Figure size 432x288 with 1 Axes>"
      ]
     },
     "metadata": {
      "needs_background": "light"
     },
     "output_type": "display_data"
    }
   ],
   "source": [
    "T = np.linspace(1,100,1000)\n",
    "T = T*1.602e-13\n",
    "r_e = 2.8179e-15\n",
    "m_e = 9.1094e-31\n",
    "c = 3e8\n",
    "m_p = 1.6726e-27\n",
    "gamma = T/(m_p*c**2) + 1\n",
    "Beta = np.sqrt((gamma**2-1)/gamma**2)\n",
    "a = 2*m_e*c**2\n",
    "b = 1 + (m_e/m_p)**2\n",
    "delta = 2*m_e/m_p\n",
    "T_emax = (a*(gamma**2-1))/(b+(delta*gamma))\n",
    "S_col_eau = 2 * np.pi * (r_e ** 2)* m_e * (c ** 2) * (densité_électronique_eau*(10**3)) * (1/Beta**2) * (np.log((2*m_e*(c**2)*(Beta**2)*(gamma**2)*T_emax)/((Énergie_moyenne_excitation_eau*1.60218e-19)**2))-2*(Beta**2))\n",
    "S_col_os = 2 * np.pi * (r_e ** 2)* m_e * (c ** 2) * (densité_électronique_os*(10**3)) * (1/Beta**2) * (np.log((2*m_e*(c**2)*(Beta**2)*(gamma**2)*T_emax)/((Énergie_moyenne_excitation_os*1.60218e-19)**2))-2*(Beta**2))\n",
    "plt.plot(T, S_col_eau)\n",
    "plt.xscale('log')\n",
    "plt.xlabel('Énergie T (log) [J]')\n",
    "plt.ylabel('''Pouvoir d'arrêt collisionel de l'eau liquide [J/m]''')\n",
    "plt.show()\n",
    "plt.plot(T, S_col_os)\n",
    "plt.xscale('log')\n",
    "plt.xlabel('Énergie T (log) [J]')\n",
    "plt.ylabel('''Pouvoir d'arrêt collisionel de l'os compact [J/m]''')\n",
    "plt.show()"
   ]
  },
  {
   "cell_type": "markdown",
   "metadata": {},
   "source": [
    "On utilise l'équation 4 de l'énoncé du devoir. On remplace gamma, beta et T_emax par leur expression correspondante, soit la 6, la 8 et la 9 de l'énoncé pour obtenir tout en fonction de T."
   ]
  },
  {
   "cell_type": "markdown",
   "metadata": {},
   "source": [
    "S_col(T) = 2 * np.pi * r_e ** 2 m_e * c ** 2 * n_e / (((T/m_p*c**2 + 1))**2-1)/(T/m_p * c**2 + 1))**2) (np.ln(2 * m_e * c ** 2 * Beta ** 2 * gamma ** 2 * T_emax / I ** 2) - 2 * Beta ** 2)"
   ]
  }
 ],
 "metadata": {
  "interpreter": {
   "hash": "bbab33599ff53eccf076482199fb7c145a454f24f783524f25cba32cca5bd7a9"
  },
  "kernelspec": {
   "display_name": "Python 3.9.7 64-bit ('base': conda)",
   "language": "python",
   "name": "python3"
  },
  "language_info": {
   "codemirror_mode": {
    "name": "ipython",
    "version": 3
   },
   "file_extension": ".py",
   "mimetype": "text/x-python",
   "name": "python",
   "nbconvert_exporter": "python",
   "pygments_lexer": "ipython3",
   "version": "3.9.7"
  },
  "orig_nbformat": 4
 },
 "nbformat": 4,
 "nbformat_minor": 2
}
